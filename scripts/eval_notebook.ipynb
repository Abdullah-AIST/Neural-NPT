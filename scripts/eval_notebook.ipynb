{
 "cells": [
  {
   "cell_type": "code",
   "execution_count": null,
   "metadata": {},
   "outputs": [],
   "source": [
    "import torch\n",
    "import math\n",
    "import matplotlib.pyplot as plt\n",
    "import seaborn as sns\n",
    "from torch.distributions import Beta\n",
    "eval_states = torch.load(\"Evaluation_States.pt\",weights_only=True)\n",
    "# :6 Init Joints Pos\n",
    "# 6:9 Target Pos\n",
    "# 9:11 object size (height, width)\n",
    "# 11:14 object color\n"
   ]
  },
  {
   "cell_type": "code",
   "execution_count": 371,
   "metadata": {},
   "outputs": [
    {
     "name": "stdout",
     "output_type": "stream",
     "text": [
      "torch.return_types.min(\n",
      "values=tensor([0.3004, 0.5006, 0.5002], device='cuda:0'),\n",
      "indices=tensor([ 28, 224, 129], device='cuda:0')) torch.return_types.max(\n",
      "values=tensor([0.5990, 0.9979, 0.9977], device='cuda:0'),\n",
      "indices=tensor([437,  15,  71], device='cuda:0'))\n"
     ]
    }
   ],
   "source": [
    "unseen = False\n",
    "MaxSize = [0.6,1.0,1.0]   #Height, W/H, L/H\n",
    "MinSize = [0.3,0.5,0.5]\n",
    "\n",
    "if unseen:\n",
    "    #object_width_updated = torch.rand_like(eval_states[:,0]) * 0.125 + 0.025  #smallBase *0.125 + 0.025\n",
    "    #object_length_updated = torch.rand_like(eval_states[:,0]) * 0.125 + 0.025 #smallBase *0.125 + 0.025\n",
    "    #object_height_updated = torch.rand_like(eval_states[:,0]) * 0.3 + 0.1   #smallBase *0.3 + 0.1\n",
    "    object_height_updated = torch.rand_like(eval_states[:,0]) * (MaxSize[0] - MinSize[0]) + MinSize[0]\n",
    "    object_widthRatio_updated = torch.rand_like(eval_states[:,0]) * (MaxSize[1] - MinSize[1]) + MinSize[1]\n",
    "    object_lengthRatio_updated = torch.rand_like(eval_states[:,0]) * (MaxSize[2] - MinSize[2]) + MinSize[2]\n",
    "else:\n",
    "    #object_width_updated = torch.rand_like(eval_states[:,0]) * 0.05 + 0.05  #smallBase *0.125 + 0.025\n",
    "    #object_length_updated = torch.rand_like(eval_states[:,0]) * 0.05 + 0.05 #smallBase *0.125 + 0.025\n",
    "    #object_height_updated = torch.rand_like(eval_states[:,0]) * 0.2 + 0.1   #smallBase *0.3 + 0.1\n",
    "    object_height_updated = torch.rand_like(eval_states[:,0]) * (MaxSize[0] - MinSize[0]) + MinSize[0]\n",
    "    object_widthRatio_updated = torch.rand_like(eval_states[:,0]) * (MaxSize[1] - MinSize[1]) + MinSize[1]\n",
    "    object_lengthRatio_updated = torch.rand_like(eval_states[:,0]) * (MaxSize[2] - MinSize[2]) + MinSize[2]\n",
    "\n",
    "object_size_updated = torch.stack([object_height_updated, object_widthRatio_updated, object_lengthRatio_updated], dim=-1)\n",
    "print(object_size_updated.min(0), object_size_updated.max(0))"
   ]
  },
  {
   "cell_type": "code",
   "execution_count": 372,
   "metadata": {},
   "outputs": [],
   "source": [
    "object_color = eval_states[:, 11:14].clone()\n",
    "init_joint_pos = eval_states[:, :6].clone()"
   ]
  },
  {
   "cell_type": "code",
   "execution_count": 373,
   "metadata": {},
   "outputs": [
    {
     "name": "stdout",
     "output_type": "stream",
     "text": [
      "min target pos:  tensor([ 0.0011, -0.8817,  0.3626], device='cuda:0')\n",
      "max target pos:  tensor([0.8845, 0.8788, 1.2402], device='cuda:0')\n",
      "min tgt pos new:  tensor([ 7.5533e-04, -8.7651e-01, -2.1946e-01])\n",
      "max tgt pos new:  tensor([0.8914, 0.8692, 0.6344])\n"
     ]
    }
   ],
   "source": [
    "#shift height by robot base height (0.8)\n",
    "target_pos = eval_states[:,6:9].clone()\n",
    "\n",
    "print(\"min target pos: \", target_pos.min(0).values)\n",
    "print(\"max target pos: \", target_pos.max(0).values)\n",
    "\n",
    "n = target_pos.size(0)\n",
    "tgt_radius_range = (0.7,0.9)\n",
    "tgt_yaw_range = (-math.pi / 2, math.pi / 2)\n",
    "tgt_pitch_range = (-math.pi / 12, 3*math.pi / 12) # orignally -math.pi / 6, math.pi / 6 --> for safety range changed to -math.pi / 12, 3*math.pi / 12\n",
    "\n",
    "tgt_radius = torch.empty(n).uniform_(*tgt_radius_range)\n",
    "tgt_yaw = torch.empty(n).uniform_(*tgt_yaw_range)\n",
    "tgt_pitch = torch.empty(n).uniform_(*tgt_pitch_range)\n",
    "x = tgt_radius * torch.cos(tgt_yaw) * torch.cos(tgt_pitch)\n",
    "y = tgt_radius * torch.sin(tgt_yaw) * torch.cos(tgt_pitch)\n",
    "z = tgt_radius * torch.sin(tgt_pitch)\n",
    "tgt_pos_new = torch.stack([x,y,z], dim=-1)\n",
    "\n",
    "\n",
    "print(\"min tgt pos new: \", tgt_pos_new.min(0).values)\n",
    "print(\"max tgt pos new: \", tgt_pos_new.max(0).values)\n",
    "\n",
    "target_pos = tgt_pos_new.to(target_pos.device)\n",
    "#target_pos[:,2]= target_pos[:,2] - 0.8\n"
   ]
  },
  {
   "cell_type": "code",
   "execution_count": 374,
   "metadata": {},
   "outputs": [],
   "source": [
    "friction = torch.rand_like(eval_states[:, 13])*0.9 + 0.1\n",
    "eval_states = torch.cat([init_joint_pos, target_pos, object_size_updated, object_color, friction.unsqueeze(-1)], dim=-1)"
   ]
  },
  {
   "cell_type": "code",
   "execution_count": 375,
   "metadata": {},
   "outputs": [],
   "source": [
    "torch.save(eval_states, \"eval_states_updated.pt\")"
   ]
  },
  {
   "cell_type": "code",
   "execution_count": 376,
   "metadata": {},
   "outputs": [
    {
     "name": "stdout",
     "output_type": "stream",
     "text": [
      "min target pos:  tensor([ 7.5533e-04, -8.7651e-01, -2.1946e-01], device='cuda:0')\n",
      "max target pos:  tensor([0.8914, 0.8692, 0.6344], device='cuda:0')\n"
     ]
    }
   ],
   "source": [
    "print(\"min target pos: \", target_pos.min(0).values)\n",
    "print(\"max target pos: \", target_pos.max(0).values)"
   ]
  },
  {
   "cell_type": "code",
   "execution_count": 377,
   "metadata": {},
   "outputs": [
    {
     "name": "stdout",
     "output_type": "stream",
     "text": [
      "min joint post:  tensor([-1.5647, -1.4835,  0.4660, -1.4861,  1.5708,  0.0000], device='cuda:0')\n",
      "max joint post:  tensor([ 1.5698, -0.1222,  2.8655, -0.0621,  1.5708,  0.0000], device='cuda:0')\n"
     ]
    }
   ],
   "source": [
    "print(\"min joint post: \", init_joint_pos.min(0).values)\n",
    "print(\"max joint post: \", init_joint_pos.max(0).values)"
   ]
  },
  {
   "cell_type": "code",
   "execution_count": 378,
   "metadata": {},
   "outputs": [
    {
     "name": "stdout",
     "output_type": "stream",
     "text": [
      "min target pos new:  tensor([ 0.0020, -0.8848, -0.4445])\n",
      "max target pos new:  tensor([0.8823, 0.8859, 0.4445])\n"
     ]
    }
   ],
   "source": [
    "n = 1000\n",
    "tgt_radius_range = (0.7,0.9)\n",
    "tgt_yaw_range = (-math.pi / 2, math.pi / 2)\n",
    "tgt_pitch_range = (-math.pi / 6, math.pi / 6)\n",
    "\n",
    "tgt_radius = torch.empty(n).uniform_(*tgt_radius_range)\n",
    "tgt_yaw = torch.empty(n).uniform_(*tgt_yaw_range)\n",
    "tgt_pitch = torch.empty(n).uniform_(*tgt_pitch_range)\n",
    "x = tgt_radius * torch.cos(tgt_yaw) * torch.cos(tgt_pitch)\n",
    "y = tgt_radius * torch.sin(tgt_yaw) * torch.cos(tgt_pitch)\n",
    "z = tgt_radius * torch.sin(tgt_pitch)\n",
    "tgt_pos_new = torch.stack([x,y,z], dim=-1)\n",
    "\n",
    "print(\"min target pos new: \", tgt_pos_new.min(0).values)\n",
    "print(\"max target pos new: \", tgt_pos_new.max(0).values)"
   ]
  },
  {
   "cell_type": "code",
   "execution_count": 379,
   "metadata": {},
   "outputs": [
    {
     "name": "stdout",
     "output_type": "stream",
     "text": [
      "min init Joint pos new:  tensor([-1.5708, -1.5662,  0.0824, -1.5605,  1.5708,  0.0000])\n",
      "max init Joint pos new:  tensor([ 1.5708e+00, -3.8213e-03,  3.1059e+00, -7.1251e-04,  1.5708e+00,\n",
      "         0.0000e+00])\n"
     ]
    }
   ],
   "source": [
    "n = 100000\n",
    "init_joint_pos = torch.ones(n, 6)\n",
    "init_joint_pos[:, 0] = init_joint_pos[:, 0] * 0.0\n",
    "init_joint_pos[:, 1] = init_joint_pos[:, 1] * -math.pi / 4\n",
    "init_joint_pos[:, 2] = init_joint_pos[:, 2] * math.pi / 2\n",
    "init_joint_pos[:, 3] = init_joint_pos[:, 3] * -math.pi / 4\n",
    "init_joint_pos[:, 4] = init_joint_pos[:, 4] * math.pi / 2\n",
    "init_joint_pos[:, 5] = init_joint_pos[:, 5] * 0.0\n",
    "\n",
    "init_joint_pos[:, 0] = init_joint_pos[:, 0] + math.pi * (torch.rand_like(init_joint_pos[:, 0]) - 0.5)\n",
    "angle = math.pi / 4 *torch.rand_like(init_joint_pos[:, 0])\n",
    "coeff1 = 2 * torch.rand_like(init_joint_pos[:, 0]) - 1 # why not  torch.rand_like(init_joint_pos[:, 0])\n",
    "coeff2 = 2 * torch.rand_like(init_joint_pos[:, 0]) - 1\n",
    "coeff3 = coeff1 + coeff2\n",
    "init_joint_pos[:, 1] += coeff1 * angle\n",
    "init_joint_pos[:, 3] += coeff2 * angle\n",
    "init_joint_pos[:, 2] -= coeff3 * angle\n",
    "\n",
    "print(\"min init Joint pos new: \", init_joint_pos.min(0).values)\n",
    "print(\"max init Joint pos new: \", init_joint_pos.max(0).values)"
   ]
  },
  {
   "cell_type": "markdown",
   "metadata": {},
   "source": [
    "### Sampling Approach"
   ]
  },
  {
   "cell_type": "code",
   "execution_count": null,
   "metadata": {},
   "outputs": [
    {
     "data": {
      "text/plain": [
       "<matplotlib.legend.Legend at 0x737eb753cac0>"
      ]
     },
     "execution_count": 5,
     "metadata": {},
     "output_type": "execute_result"
    },
    {
     "data": {
      "image/png": "[encoded data removed]",
      "text/plain": [
       "<Figure size 640x480 with 1 Axes>"
      ]
     },
     "metadata": {},
     "output_type": "display_data"
    }
   ],
   "source": [
    "\n",
    "\n",
    "n = 100000\n",
    "a = torch.FloatTensor([5])\n",
    "b = torch.FloatTensor([1])\n",
    "dist_1 = Beta(a, b)\n",
    "dist_2 = Beta(b, a) \n",
    "x = dist_1.sample((n,)).numpy() #+ dist_2.sample((n,)).numpy()\n",
    "y = dist_2.sample((n,)).numpy()\n",
    "sns.histplot(x, label=f'Beta({float(a)},{float(b)})', kde=True,color='red', edgecolor='black')\n",
    "sns.histplot(y, label=f'Beta({float(b)},{float(a)})', kde=True,color='blue', edgecolor='black')\n",
    "\n",
    "plt.legend()"
   ]
  },
  {
   "cell_type": "code",
   "execution_count": 381,
   "metadata": {},
   "outputs": [],
   "source": [
    "n = 100000\n",
    "init_joint_pos = torch.ones(n, 6)\n",
    "init_joint_pos[:, 0] = init_joint_pos[:, 0] * 0.0\n",
    "init_joint_pos[:, 1] = init_joint_pos[:, 1] * -math.pi / 4\n",
    "init_joint_pos[:, 2] = init_joint_pos[:, 2] * math.pi / 2\n",
    "init_joint_pos[:, 3] = init_joint_pos[:, 3] * -math.pi / 4\n",
    "init_joint_pos[:, 4] = init_joint_pos[:, 4] * math.pi / 2\n",
    "init_joint_pos[:, 5] = init_joint_pos[:, 5] * 0.0"
   ]
  },
  {
   "cell_type": "code",
   "execution_count": 382,
   "metadata": {},
   "outputs": [
    {
     "data": {
      "text/plain": [
       "<Axes: ylabel='Count'>"
      ]
     },
     "execution_count": 382,
     "metadata": {},
     "output_type": "execute_result"
    },
    {
     "data": {
      "image/png": "[encoded data removed]",
      "text/plain": [
       "<Figure size 640x480 with 1 Axes>"
      ]
     },
     "metadata": {},
     "output_type": "display_data"
    }
   ],
   "source": [
    "# unifrom sampling\n",
    "joint1 = init_joint_pos[:, 0].clone() + math.pi * (torch.rand_like(init_joint_pos[:, 0]) - 0.5)\n",
    "joint1 = joint1/(math.pi/2)\n",
    "sns.histplot(joint1.cpu().numpy(), label='joint 1', color='blue', kde=True)\n",
    "# edge case sampling using beta distributio\n"
   ]
  },
  {
   "cell_type": "code",
   "execution_count": 383,
   "metadata": {},
   "outputs": [
    {
     "data": {
      "text/plain": [
       "<Axes: ylabel='Count'>"
      ]
     },
     "execution_count": 383,
     "metadata": {},
     "output_type": "execute_result"
    },
    {
     "data": {
      "image/png": "[encoded data removed]",
      "text/plain": [
       "<Figure size 640x480 with 1 Axes>"
      ]
     },
     "metadata": {},
     "output_type": "display_data"
    }
   ],
   "source": [
    "# unifrom sampling\n",
    "n = init_joint_pos.shape[0]\n",
    "a = 5\n",
    "b = 1\n",
    "dist_1 = Beta(a, b)\n",
    "shift1 = torch.pi * (dist_1.sample((n,)).squeeze() - 0.5)\n",
    "shift2 = -torch.pi * (dist_1.sample((n,)).squeeze() - 0.5)\n",
    "sampledShift = torch.where(torch.rand(n) > 0.5, shift1, shift2)\n",
    "joint1 = init_joint_pos[:, 0].clone() + sampledShift\n",
    "joint1 = joint1/(torch.pi/2)\n",
    "sns.histplot(joint1.cpu().numpy(), label='joint 1', color='blue', kde=True)\n",
    "# edge case sampling using beta distributio\n"
   ]
  },
  {
   "cell_type": "code",
   "execution_count": 384,
   "metadata": {},
   "outputs": [
    {
     "name": "stdout",
     "output_type": "stream",
     "text": [
      "torch.Size([100000, 10]) torch.Size([100000, 10])\n",
      "torch.Size([100000, 10])\n",
      "torch.Size([100000])\n"
     ]
    }
   ],
   "source": [
    "tgt_yaw_range = (-math.pi / 2, math.pi / 2)\n",
    "env_ids = torch.arange(n)\n",
    "if torch.rand(1) > 0.5:\n",
    "    tgt_yaw = torch.empty(n).uniform_(*tgt_yaw_range)\n",
    "else:\n",
    "    tgt_yaw_set = torch.empty((n,10)).uniform_(*tgt_yaw_range)\n",
    "    joint1_pos = init_joint_pos[env_ids, 0].unsqueeze(1).repeat(1, 10)\n",
    "    print(joint1_pos.shape, tgt_yaw_set.shape)\n",
    "    distance = torch.abs(tgt_yaw_set - joint1_pos)\n",
    "    print(distance.shape)\n",
    "    tgt_yaw = tgt_yaw_set[torch.arange(n), distance.argmax(dim=-1)]\n",
    "\n",
    "print(tgt_yaw.shape)"
   ]
  },
  {
   "cell_type": "code",
   "execution_count": 385,
   "metadata": {},
   "outputs": [
    {
     "data": {
      "text/plain": [
       "<Axes: ylabel='Count'>"
      ]
     },
     "execution_count": 385,
     "metadata": {},
     "output_type": "execute_result"
    },
    {
     "data": {
      "image/png": "[encoded data removed]",
      "text/plain": [
       "<Figure size 640x480 with 1 Axes>"
      ]
     },
     "metadata": {},
     "output_type": "display_data"
    }
   ],
   "source": [
    "## Object Shape\n",
    "\n",
    "# unifrom sampling\n",
    "n = 10000\n",
    "a = 1.1\n",
    "b = 5\n",
    "dist = Beta(a, b)\n",
    "shift = dist.sample((n,1)).squeeze()\n",
    "#sns.histplot(shift[:,0].cpu().numpy(), label='joint 1', color='blue', kde=True)\n",
    "\n",
    "max_block_size = torch.tensor([0.6, 0.2, 0.2])     # Height, W/H ratio, L/H ratio \n",
    "min_block_size = torch.tensor([0.05, 3.0, 3.0])\n",
    "\n",
    "#sizes = 0.05 + (0.6 - 0.05) * shift\n",
    "\n",
    "sizes = 0.2 + (3.0 - 0.2) * shift\n",
    "\n",
    "\n",
    "ind = 0\n",
    "sns.histplot(sizes[:].cpu().numpy(), label='joint 1', color='blue', kde=True)\n",
    "\n",
    "# edge case sampling using beta distributio\n"
   ]
  },
  {
   "cell_type": "code",
   "execution_count": 4,
   "metadata": {},
   "outputs": [
    {
     "ename": "NameError",
     "evalue": "name 'Beta' is not defined",
     "output_type": "error",
     "traceback": [
      "\u001b[0;31m---------------------------------------------------------------------------\u001b[0m",
      "\u001b[0;31mNameError\u001b[0m                                 Traceback (most recent call last)",
      "Cell \u001b[0;32mIn[4], line 10\u001b[0m\n\u001b[1;32m      7\u001b[0m     scaled_samples \u001b[38;5;241m=\u001b[39m samples \u001b[38;5;241m*\u001b[39m (x_max \u001b[38;5;241m-\u001b[39m x_min) \u001b[38;5;241m+\u001b[39m x_min\n\u001b[1;32m      8\u001b[0m     \u001b[38;5;28;01mreturn\u001b[39;00m scaled_samples\n\u001b[0;32m---> 10\u001b[0m x \u001b[38;5;241m=\u001b[39m \u001b[43msample_beta\u001b[49m\u001b[43m(\u001b[49m\u001b[38;5;241;43m10000\u001b[39;49m\u001b[43m,\u001b[49m\u001b[43m \u001b[49m\u001b[38;5;241;43m0.2\u001b[39;49m\u001b[43m,\u001b[49m\u001b[43m \u001b[49m\u001b[38;5;241;43m3\u001b[39;49m\u001b[43m,\u001b[49m\u001b[43m \u001b[49m\u001b[43malpha\u001b[49m\u001b[38;5;241;43m=\u001b[39;49m\u001b[38;5;241;43m1.1\u001b[39;49m\u001b[43m,\u001b[49m\u001b[43m \u001b[49m\u001b[43mbeta\u001b[49m\u001b[38;5;241;43m=\u001b[39;49m\u001b[38;5;241;43m5\u001b[39;49m\u001b[43m)\u001b[49m\n\u001b[1;32m     11\u001b[0m sns\u001b[38;5;241m.\u001b[39mhistplot(x[:]\u001b[38;5;241m.\u001b[39mcpu()\u001b[38;5;241m.\u001b[39mnumpy(), label\u001b[38;5;241m=\u001b[39m\u001b[38;5;124m'\u001b[39m\u001b[38;5;124mjoint 1\u001b[39m\u001b[38;5;124m'\u001b[39m, color\u001b[38;5;241m=\u001b[39m\u001b[38;5;124m'\u001b[39m\u001b[38;5;124mblue\u001b[39m\u001b[38;5;124m'\u001b[39m, kde\u001b[38;5;241m=\u001b[39m\u001b[38;5;28;01mTrue\u001b[39;00m)\n",
      "Cell \u001b[0;32mIn[4], line 4\u001b[0m, in \u001b[0;36msample_beta\u001b[0;34m(n, x_min, x_max, alpha, beta)\u001b[0m\n\u001b[1;32m      2\u001b[0m \u001b[38;5;250m\u001b[39m\u001b[38;5;124;03m\"\"\"Sample from a beta distribution and scale to a given range.\"\"\"\u001b[39;00m\n\u001b[1;32m      3\u001b[0m \u001b[38;5;66;03m# Sample from a beta distribution\u001b[39;00m\n\u001b[0;32m----> 4\u001b[0m beta_dist \u001b[38;5;241m=\u001b[39m \u001b[43mBeta\u001b[49m(alpha, beta)\n\u001b[1;32m      5\u001b[0m samples \u001b[38;5;241m=\u001b[39m beta_dist\u001b[38;5;241m.\u001b[39msample((n,\u001b[38;5;241m1\u001b[39m))\n\u001b[1;32m      6\u001b[0m \u001b[38;5;66;03m# Scale the samples to the desired range\u001b[39;00m\n",
      "\u001b[0;31mNameError\u001b[0m: name 'Beta' is not defined"
     ]
    }
   ],
   "source": [
    "def sample_beta(n: int, x_min:float, x_max:float, alpha=1, beta=1) -> torch.Tensor:\n",
    "    \"\"\"Sample from a beta distribution and scale to a given range.\"\"\"\n",
    "    # Sample from a beta distribution\n",
    "    beta_dist = Beta(alpha, beta)\n",
    "    samples = beta_dist.sample((n,1))\n",
    "    # Scale the samples to the desired range\n",
    "    scaled_samples = samples * (x_max - x_min) + x_min\n",
    "    return scaled_samples\n",
    "\n",
    "x = sample_beta(10000, 0.2, 3, alpha=1.1, beta=5)\n",
    "sns.histplot(x[:].cpu().numpy(), label='joint 1', color='blue', kde=True)"
   ]
  },
  {
   "cell_type": "markdown",
   "metadata": {},
   "source": [
    "## Evaluation Trajectories"
   ]
  },
  {
   "cell_type": "code",
   "execution_count": 2,
   "metadata": {},
   "outputs": [],
   "source": [
    "nstates = 14\n",
    "nEnvs = 512\n",
    "eval_states = torch.empty((nEnvs, nstates))\n",
    "# eval_states = torch.cat([init_joint_pos, target_pos, object_size_updated, object_color, friction.unsqueeze(-1)], dim=-1)"
   ]
  },
  {
   "cell_type": "markdown",
   "metadata": {},
   "source": [
    "##### Object (Size & Color & physical props.)"
   ]
  },
  {
   "cell_type": "code",
   "execution_count": 7,
   "metadata": {},
   "outputs": [],
   "source": [
    "unseen = True\n",
    "MaxSize = [0.60,3.0,4]   #Height, W/H, L/H\n",
    "MinSize = [0.05,0.2,0.25]\n",
    "if unseen:\n",
    "    MaxSize = [1.0,3.0,4]   #Height, W/H, L/H\n",
    "    MinSize = [0.06,0.2,0.25]\n",
    "    \n",
    "n = eval_states.shape[0]\n",
    "object_height = sample_beta(n, MinSize[0], MaxSize[0], alpha=1.5, beta=1.1).squeeze()\n",
    "object_width =  sample_beta(n, MinSize[1], MaxSize[1], alpha=1.1, beta=5.0).squeeze()\n",
    "object_length = sample_beta(n, MinSize[2], MaxSize[2], alpha=1.0, beta=1.0).squeeze()\n",
    "\n",
    "object_size = torch.stack([object_height, object_width, object_length], dim=-1)\n",
    "\n",
    "object_color = torch.rand((nEnvs, 3))\n",
    "object_friction = torch.rand((nEnvs, 1))*0.9 + 0.1\n",
    "\n"
   ]
  },
  {
   "cell_type": "markdown",
   "metadata": {},
   "source": [
    "##### Initial Joint Position"
   ]
  },
  {
   "cell_type": "code",
   "execution_count": 8,
   "metadata": {},
   "outputs": [
    {
     "name": "stdout",
     "output_type": "stream",
     "text": [
      "min init Joint pos new:  tensor([-1.5700, -1.4971,  0.2365, -1.5564,  1.5708,  0.0000])\n",
      "max init Joint pos new:  tensor([ 1.5614, -0.0984,  2.9707, -0.0173,  1.5708,  0.0000])\n"
     ]
    }
   ],
   "source": [
    "init_joint_pos = torch.tensor([[0.0, -torch.pi / 4, torch.pi / 2, -torch.pi / 4, torch.pi / 2, 0.0]]).repeat(nEnvs, 1)\n",
    "a = 5\n",
    "b = 1\n",
    "betaDist = Beta(a, b)\n",
    "joint1PosShift_1 = torch.pi * (betaDist.sample((nEnvs,)).squeeze() - 0.5)\n",
    "joint1PosShift_2 = -torch.pi * (betaDist.sample((nEnvs,)).squeeze() - 0.5)\n",
    "sampledShift = torch.where(torch.rand(nEnvs) > 0.5, joint1PosShift_1, joint1PosShift_2)\n",
    "init_joint_pos[:, 0] = init_joint_pos[:, 0] + sampledShift\n",
    "\n",
    "angle = math.pi / 4 *torch.rand_like(init_joint_pos[:, 0])\n",
    "coeff1 = 2 * torch.rand_like(init_joint_pos[:, 0]) - 1 # why not  torch.rand_like(init_joint_pos[:, 0])\n",
    "coeff2 = 2 * torch.rand_like(init_joint_pos[:, 0]) - 1\n",
    "coeff3 = coeff1 + coeff2\n",
    "init_joint_pos[:, 1] += coeff1 * angle\n",
    "init_joint_pos[:, 3] += coeff2 * angle\n",
    "init_joint_pos[:, 2] -= coeff3 * angle\n",
    "\n",
    "print(\"min init Joint pos new: \", init_joint_pos.min(0).values)\n",
    "print(\"max init Joint pos new: \", init_joint_pos.max(0).values)\n",
    "\n"
   ]
  },
  {
   "cell_type": "markdown",
   "metadata": {},
   "source": [
    "##### Target Position\n"
   ]
  },
  {
   "cell_type": "code",
   "execution_count": 9,
   "metadata": {},
   "outputs": [],
   "source": [
    "tgt_radius_range = (0.6,0.9) #0.9 is the max radius\n",
    "tgt_yaw_range = (-math.pi / 2, math.pi / 2)\n",
    "tgt_pitch_range = (-math.pi / 12, math.pi / 6) # orignally -math.pi / 6, math.pi / 6 --> for safety range changed to -math.pi / 12, 3*math.pi / 12\n",
    "\n",
    "tgt_radius = torch.empty(nEnvs).uniform_(*tgt_radius_range)\n",
    "tgt_pitch = torch.empty(nEnvs).uniform_(*tgt_pitch_range)\n",
    "\n",
    "tgt_yaw_set = torch.empty((nEnvs,10)).uniform_(*tgt_yaw_range)\n",
    "joint1_pos = init_joint_pos[:, 0].unsqueeze(1).repeat(1, 10)\n",
    "distance = torch.abs(tgt_yaw_set - joint1_pos)\n",
    "tgt_yaw = tgt_yaw_set[torch.arange(nEnvs), distance.argmax(dim=-1)]\n",
    "\n",
    "x = tgt_radius * torch.cos(tgt_yaw) * torch.cos(tgt_pitch)\n",
    "y = tgt_radius * torch.sin(tgt_yaw) * torch.cos(tgt_pitch)\n",
    "z = tgt_radius * torch.sin(tgt_pitch)\n",
    "target_pos = torch.stack([x,y,z], dim=-1)\n",
    "\n"
   ]
  },
  {
   "cell_type": "code",
   "execution_count": 10,
   "metadata": {},
   "outputs": [],
   "source": [
    "eval_states = torch.cat([init_joint_pos, target_pos, object_size, object_color, object_friction], dim=-1)\n",
    "\n",
    "torch.save(eval_states, \"Evaluation_States_UnseenTall.pt\")"
   ]
  },
  {
   "cell_type": "code",
   "execution_count": 392,
   "metadata": {},
   "outputs": [
    {
     "name": "stdout",
     "output_type": "stream",
     "text": [
      "Shape of interleaved positions: (32, 3)\n",
      "Interleaved positions: [[ 0.       0.67615 -0.18117]\n",
      " [ 0.      -0.67615  0.18117]\n",
      " [ 0.       0.77274 -0.20706]\n",
      " [ 0.      -0.77942  0.45   ]\n",
      " [ 0.       0.6      0.     ]\n",
      " [ 0.      -0.57956  0.15529]\n",
      " [ 0.       0.51962  0.3    ]\n",
      " [ 0.      -0.8      0.     ]\n",
      " [ 0.       0.69282  0.4    ]\n",
      " [ 0.      -0.60622  0.35   ]\n",
      " [ 0.       0.77942  0.45   ]\n",
      " [ 0.      -0.7      0.     ]\n",
      " [ 0.       0.60622  0.35   ]\n",
      " [ 0.      -0.67615 -0.18117]\n",
      " [ 0.       0.8      0.     ]\n",
      " [ 0.      -0.86933  0.23294]\n",
      " [ 0.       0.57956  0.15529]\n",
      " [ 0.      -0.77274  0.20706]\n",
      " [ 0.       0.7      0.     ]\n",
      " [ 0.      -0.69282  0.4    ]\n",
      " [ 0.       0.67615  0.18117]\n",
      " [ 0.      -0.77274 -0.20706]\n",
      " [ 0.       0.57956 -0.15529]\n",
      " [ 0.      -0.86933 -0.23294]\n",
      " [ 0.       0.9      0.     ]\n",
      " [ 0.      -0.6      0.     ]\n",
      " [ 0.       0.86933 -0.23294]\n",
      " [ 0.      -0.57956 -0.15529]\n",
      " [ 0.       0.86933  0.23294]\n",
      " [ 0.      -0.51962  0.3    ]\n",
      " [ 0.       0.77274  0.20706]\n",
      " [ 0.      -0.9      0.     ]]\n"
     ]
    }
   ],
   "source": [
    "## Real World Qunatitative Eval\n",
    "import numpy as np\n",
    "tgt_radius = np.array([0.6, 0.7, 0.8, 0.9]) # N=5\n",
    "tgt_pitch = np.array([-np.pi/12, 0,  np.pi/12, np.pi/6]) # M=4\n",
    "tgt_yaw = np.array([np.pi/2]) # L=3\n",
    "\n",
    "# CW\n",
    "start_yaw = np.array([np.pi/2]) # K=3\n",
    "# Create meshgrid of spherical coordinates\n",
    "R, P, Y = np.meshgrid(tgt_radius, tgt_pitch, tgt_yaw)\n",
    "# Convert spherical to Cartesian coordinates\n",
    "X = R * np.cos(P) * np.cos(Y)\n",
    "Y = R * np.cos(P) * np.sin(Y)\n",
    "Z = R * np.sin(P)\n",
    "\n",
    "# Reshape into Nx3 array of xyz coordinates\n",
    "goal_positions = np.column_stack((X.flatten(), Y.flatten(), Z.flatten()))\n",
    "goal_positions_ccw = np.round(goal_positions, decimals=5).copy()\n",
    "\n",
    "# CCW\n",
    "start_yaw = np.array([-np.pi/2]) # K=3\n",
    "# Create meshgrid of spherical coordinates\n",
    "R, P, Y = np.meshgrid(tgt_radius, tgt_pitch, start_yaw)\n",
    "# Convert spherical to Cartesian coordinates\n",
    "X = R * np.cos(P) * np.cos(Y)\n",
    "Y = R * np.cos(P) * np.sin(Y)\n",
    "Z = R * np.sin(P)\n",
    "# Reshape into Nx3 array of xyz coordinates\n",
    "goal_positions = np.column_stack((X.flatten(), Y.flatten(), Z.flatten()))\n",
    "# Round the goal positions to 5 decimal places\n",
    "goal_positions_cw = np.round(goal_positions, decimals=5)\n",
    "\n",
    "# Generate random indices for shuffling while maintaining pairs\n",
    "n_positions = len(goal_positions_ccw)\n",
    "shuffle_indices1 = np.random.permutation(n_positions)\n",
    "shuffle_indices2 = np.random.permutation(n_positions)\n",
    "\n",
    "# Create interleaved positions array and shuffle using the indices\n",
    "interleaved_positions = np.empty((goal_positions_ccw.shape[0] + goal_positions_cw.shape[0], 3))\n",
    "interleaved_positions[0::2] = goal_positions_ccw[shuffle_indices1]\n",
    "interleaved_positions[1::2] = goal_positions_cw[shuffle_indices2]\n",
    "print(f\"Shape of interleaved positions: {interleaved_positions.shape}\")\n",
    "print(f\"Interleaved positions: {interleaved_positions}\")\n",
    "\n",
    "# Save the interleaved positions to a file\n"
   ]
  },
  {
   "cell_type": "code",
   "execution_count": 393,
   "metadata": {},
   "outputs": [],
   "source": [
    "initPos = np.array([\n",
    "        [ 0.  , -0.79,  1.57, -0.79,  1.57,  0.  ],\n",
    "        [ 0.99, -1.15,  1.56, -0.35, -0.12, -0.01],\n",
    "        [-2.01, -0.  ,  0.95, -0.89,  0.2 ,  0.  ],\n",
    "        [ 0.99, -0.54,  1.56, -0.97, -0.31,  0.  ],\n",
    "        [-1.95,  0.25,  0.42, -0.67,  0.42,  0.05],\n",
    "        [ 1.05, -0.11,  1.19, -1.04, -0.1 ,  0.  ],\n",
    "        [-2.08, -1.03,  1.23, -0.07,  0.03, -0.05],\n",
    "        [ 1.15, -0.95,  0.98, -0.04,  0.37, -0.03],\n",
    "        [-2.1 , -0.83,  1.51, -0.5 ,  0.02, -0.08],\n",
    "        [ 1.21, -0.18,  0.71, -0.55,  0.44,  0.01],\n",
    "        [-1.94, -0.13,  0.57, -0.46,  0.25,  0.07],\n",
    "        [ 1.07, -0.45,  1.32, -0.82, -0.08,  0.01],\n",
    "        [-2.08, -0.48,  1.41, -0.76,  0.05, -0.07],\n",
    "        [ 1.07, -1.07,  1.3 , -0.21,  0.12, -0.03],\n",
    "        [-2.02, -0.83,  0.78,  0.09,  0.11,  0.03],\n",
    "        [ 1.05, -0.81,  1.48, -0.64, -0.06, -0.  ],\n",
    "        [-2.17, -0.58,  1.7 , -0.91, -0.09, -0.11],\n",
    "        [ 1.2 , -0.59,  0.89, -0.31,  0.4 , -0.01],\n",
    "        [-2.02, -0.68,  1.14, -0.34,  0.08, -0.03],\n",
    "        [ 0.97, -0.23,  1.45, -1.15, -0.32, -0.01],\n",
    "        [-2.27, -1.27,  1.9 , -0.41, -0.16, -0.09],\n",
    "        [ 0.97, -0.86,  1.68, -0.73, -0.31, -0.01],\n",
    "        [-2.19, -0.92,  1.81, -0.67, -0.1 , -0.11],\n",
    "        [ 1.21,  0.21,  0.51, -0.73,  0.52, -0.03],\n",
    "        [-2.09, -0.15,  1.31, -1.03,  0.06, -0.06],\n",
    "        [ 1.13,  0.03,  0.89, -0.88,  0.18, -0.03],\n",
    "        [-2.16, -1.17,  1.59, -0.24, -0.04, -0.08],\n",
    "        [ 1.15, -0.34,  1.05, -0.67,  0.17, -0.01],\n",
    "        [-2.19, -0.25,  1.59, -1.14, -0.09, -0.09],\n",
    "        [ 0.89, -1.2 ,  1.78, -0.51, -0.36, -0.  ],\n",
    "        [-2.  , -0.35,  1.06, -0.62,  0.15, -0.01],\n",
    "        [ 1.13, -0.71,  1.21, -0.48,  0.17, -0.02],\n",
    "        #[-1.96, -0.48,  0.67, -0.16,  0.16,  0.04],\n",
    "        ])\n",
    "\n",
    "#init_joint_pos = torch.tensor([[0.0, -torch.pi / 4, torch.pi / 2, -torch.pi / 4, torch.pi / 2, 0.0]]).repeat(nEnvs, 1)\n",
    "\n",
    "\n",
    "initPos[:,5] = 0.0\n",
    "initPos[:,4] = np.pi / 2\n",
    "initPos[:,2] = -(initPos[:,1] + initPos[:,3])\n",
    "initPos[:,0] = np.clip(initPos[:,0], -np.pi/2, np.pi/2)\n",
    "\n",
    "# find initPos[:,2]\n",
    "#initPos[:,1] =  -np.pi / 4 + coeff1 * angle\n",
    "#initPos[:,3] =  -np.pi / 4 + coeff2 * angle\n",
    "#initPos[:,2] =  np.pi / 2 - coeff1*angle - coeff2 * angle\n",
    "#initPos[:,2] =  np.pi/2 - (initPos[:,1]+np.pi/4) - (initPos[:,3]+np.pi/4)\n"
   ]
  },
  {
   "cell_type": "code",
   "execution_count": 394,
   "metadata": {},
   "outputs": [],
   "source": [
    "nstates = 14\n",
    "nEnvs = interleaved_positions.shape[0]\n",
    "eval_states = torch.empty((nEnvs, nstates))\n",
    "\n",
    "unseen = False\n",
    "MaxSize = [0.60,3.0,4]   #Height, W/H, L/H\n",
    "MinSize = [0.05,0.2,0.25]\n",
    "if unseen:\n",
    "    MaxSize = [0.80,3.0,4]   #Height, W/H, L/H\n",
    "    MinSize = [0.6,0.2,0.25]\n",
    "    \n",
    "n = eval_states.shape[0]\n",
    "object_height = sample_beta(n, MinSize[0], MaxSize[0], alpha=1.5, beta=1.1).squeeze()\n",
    "object_width =  sample_beta(n, MinSize[1], MaxSize[1], alpha=1.1, beta=5.0).squeeze()\n",
    "object_length = sample_beta(n, MinSize[2], MaxSize[2], alpha=1.0, beta=1.0).squeeze()\n",
    "\n",
    "object_size = torch.stack([object_height, object_width, object_length], dim=-1)\n",
    "\n",
    "object_color = torch.rand((nEnvs, 3))\n",
    "object_friction = torch.rand((nEnvs, 1))*0.9 + 0.1\n",
    "\n",
    "#init_joint_pos = torch.tensor([[0.0, -torch.pi / 4, torch.pi / 2, -torch.pi / 4, torch.pi / 2, 0.0]]).repeat(nEnvs, 1)\n",
    "init_joint_pos = torch.tensor(initPos)\n",
    "\n",
    "target_pos = torch.tensor(interleaved_positions)\n",
    "\n",
    "eval_states = torch.cat([init_joint_pos, target_pos, object_size, object_color, object_friction], dim=-1)\n",
    "\n",
    "torch.save(eval_states, \"Evaluation_States_real.pt\")"
   ]
  }
 ],
 "metadata": {
  "kernelspec": {
   "display_name": "env_isaaclab",
   "language": "python",
   "name": "python3"
  },
  "language_info": {
   "codemirror_mode": {
    "name": "ipython",
    "version": 3
   },
   "file_extension": ".py",
   "mimetype": "text/x-python",
   "name": "python",
   "nbconvert_exporter": "python",
   "pygments_lexer": "ipython3",
   "version": "3.10.16"
  }
 },
 "nbformat": 4,
 "nbformat_minor": 2
}
